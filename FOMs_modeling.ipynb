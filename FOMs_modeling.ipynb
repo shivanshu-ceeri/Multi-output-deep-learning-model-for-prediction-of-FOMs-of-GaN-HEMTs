{
 "cells": [
  {
   "cell_type": "code",
   "execution_count": null,
   "metadata": {},
   "outputs": [],
   "source": [
    "from tensorflow.keras.models import Sequential\n",
    "from tensorflow.keras.layers import Dense, Dropout, Flatten, LSTM\n",
    "from tensorflow.keras import optimizers\n",
    "from tensorflow.keras.models import load_model\n",
    "from tensorflow.keras.callbacks import ModelCheckpoint\n",
    "from tensorflow.keras.regularizers import l2"
   ]
  },
  {
   "cell_type": "code",
   "execution_count": null,
   "metadata": {},
   "outputs": [],
   "source": [
    "import numpy as np\n",
    "import pandas as pd\n",
    "from sklearn.model_selection import train_test_split"
   ]
  },
  {
   "cell_type": "code",
   "execution_count": null,
   "metadata": {},
   "outputs": [],
   "source": [
    "filename=\"DB_modified.csv\"\n",
    "dataset = pd.read_csv(filename)\n",
    "dataset =np.array(dataset)[1:-1]\n",
    "dataset=np.asfarray(dataset,float)\n"
   ]
  },
  {
   "cell_type": "code",
   "execution_count": null,
   "metadata": {},
   "outputs": [],
   "source": [
    "X=dataset[:,:4]\n",
    "X[:,0]=(X[:,0]-np.mean(X[:,0]))/np.std(X[:,0])\n",
    "X[:,1]=(X[:,1]-np.mean(X[:,1]))/np.std(X[:,1])\n",
    "X[:,2]=(X[:,2]-np.mean(X[:,2]))/np.std(X[:,2])\n",
    "X[:,3]=(X[:,3]-np.mean(X[:,3]))/np.std(X[:,3])\n",
    "y=dataset[:,4:7]"
   ]
  },
  {
   "cell_type": "code",
   "execution_count": null,
   "metadata": {},
   "outputs": [],
   "source": [
    "dfgan = pd.read_csv(\"fromGAN.csv\")\n",
    "dfgan =np.array(dfgan)\n",
    "dfgan=np.asfarray(dfgan,float)\n",
    "xGAN=dfgan[:,0:4]\n",
    "xGAN[:,0]=(xGAN[:,0]-np.mean(xGAN[:,0]))/np.std(xGAN[:,0])\n",
    "xGAN[:,1]=(xGAN[:,1]-np.mean(xGAN[:,1]))/np.std(xGAN[:,1])\n",
    "xGAN[:,2]=(xGAN[:,2]-np.mean(xGAN[:,2]))/np.std(xGAN[:,2])\n",
    "xGAN[:,3]=(xGAN[:,3]-np.mean(xGAN[:,3]))/np.std(xGAN[:,3])\n",
    "yGAN=dfgan[:,4:7]"
   ]
  },
  {
   "cell_type": "code",
   "execution_count": null,
   "metadata": {},
   "outputs": [],
   "source": [
    "xtotal=np.vstack((X, xGAN))\n",
    "ytotal=np.vstack((y, yGAN))"
   ]
  },
  {
   "cell_type": "code",
   "execution_count": null,
   "metadata": {},
   "outputs": [],
   "source": [
    "x_train, x_test, y_train, y_test = train_test_split(xtotal, ytotal, test_size=0.15, random_state=42, shuffle=True)\n",
    "x_train, x_cv, y_train, y_cv = train_test_split(x_train, y_train, test_size=0.15, random_state=42, shuffle=True)"
   ]
  },
  {
   "cell_type": "code",
   "execution_count": null,
   "metadata": {},
   "outputs": [],
   "source": [
    "x_traindim =np.expand_dims(x_train, 1)\n",
    "y_traindim =np.expand_dims(y_train, 1)\n",
    "x_cvdim =np.expand_dims(x_cv, 1)\n",
    "y_cvdim =np.expand_dims(y_cv, 1)\n",
    "x_testdim =np.expand_dims(x_test, 1)\n",
    "y_testdim =np.expand_dims(y_test, 1)"
   ]
  },
  {
   "cell_type": "code",
   "execution_count": null,
   "metadata": {},
   "outputs": [],
   "source": [
    "model = Sequential()\n",
    "model.add(LSTM(32, return_sequences=True, input_shape=(x_traindim[1].shape)))\n",
    "model.add(LSTM(32, return_sequences=True))\n",
    "model.add(LSTM(32, return_sequences=False))\n",
    "model.add(Dense(64, activation='relu'))\n",
    "model.add(Dense(64, activation='relu'))\n",
    "model.add(Dense(64, activation='relu'))\n",
    "model.add(Dense(3, activation='linear'))\n",
    "model.compile(loss='mean_squared_error', optimizer=\"adam\", metrics=['MSE'])\n",
    "model.summary()\n",
    "checkpointer = ModelCheckpoint( monitor='val_loss',filepath=filepath, verbose=1, save_best_only=True)\n",
    "history3=model.fit(x_traindim,y_train, validation_data=(x_cvdim, y_cv), epochs=1500, batch_size=16, callbacks=[checkpointer])\n",
    "minloss=round(min(history3.history['val_loss']), 1) \n",
    "df=pd.DataFrame(history3.history)\n",
    "model.save('.\\model.h5')\n",
    "df.to_csv('.\\loss.csv')"
   ]
  },
  {
   "cell_type": "code",
   "execution_count": null,
   "metadata": {},
   "outputs": [],
   "source": []
  }
 ],
 "metadata": {
  "kernelspec": {
   "display_name": "Python 3",
   "language": "python",
   "name": "python3"
  },
  "language_info": {
   "codemirror_mode": {
    "name": "ipython",
    "version": 3
   },
   "file_extension": ".py",
   "mimetype": "text/x-python",
   "name": "python",
   "nbconvert_exporter": "python",
   "pygments_lexer": "ipython3",
   "version": "3.9.5"
  }
 },
 "nbformat": 4,
 "nbformat_minor": 2
}
